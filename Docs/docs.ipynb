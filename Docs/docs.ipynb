{
 "cells": [
  {
   "cell_type": "code",
   "execution_count": null,
   "metadata": {
    "slideshow": {
     "slide_type": "-"
    }
   },
   "outputs": [],
   "source": [
    "Dokumentace k projektu \"Live Survey\"\n",
    "=================================================== \n",
    "\n",
    "Live Survey je program pro tvorbu a správu živých anket s možností několika typů odpovědí. "
   ]
  },
  {
   "cell_type": "code",
   "execution_count": null,
   "metadata": {
    "slideshow": {
     "slide_type": "-"
    }
   },
   "outputs": [],
   "source": [
    "Tento projekt je inspirován aplikací Mentimeter.\n",
    "Jako úložiště dat je používán databázový systém PostgreSQL. Frontend je realizovaný v Reactu, backend je psaný v Pythonu."
   ]
  },
  {
   "cell_type": "code",
   "execution_count": null,
   "metadata": {
    "slideshow": {
     "slide_type": "-"
    }
   },
   "outputs": [],
   "source": [
    "##### Stručný popis\n",
    "Projekt se skládá z webového rozhraní pro uživatele, které je vytvořeno pomocí Reactu a Bootstrapu. Web je koncipován do prohlížecí a vytvářecí části (vytvářecí část je v procesu tvorby). Uživatel si může prohlížet ankety uložené lokálně v adresáři jako JSONdata. Pomocí přehledu (/ui/album) si zvolí zobrazené ankety, které jsou v jednotlivých kartách jako náhledy. Po přesměrování na konkrétní anketu uživatel odpoví na zadané otázky podle jejich typu (volná odpověď - text, výběr více možností - checkbox, výběr jedné z více možností - radio button). Po zmáčknutí tlačítka \"odeslat\" dojde k odeslání dat na API adresu /api/sendAsnw."
   ]
  },
  {
   "cell_type": "code",
   "execution_count": null,
   "metadata": {
    "slideshow": {
     "slide_type": "-"
    }
   },
   "outputs": [],
   "source": [
    "Pro příjem dat slouží FastAPI, která má v aktuální fázi našeho projektu pouze triviální metody. Následně je v plánu uložení dat na Postgres místo lokální databáze."
   ]
  },
  {
   "cell_type": "code",
   "execution_count": null,
   "metadata": {
    "slideshow": {
     "slide_type": "-"
    }
   },
   "outputs": [],
   "source": [
    "Frontend, FastAPI a Postgres jsou zapouzdřeny v NGINX pro vzájemnou komunikaci. "
   ]
  },
  {
   "cell_type": "code",
   "execution_count": null,
   "metadata": {},
   "outputs": [],
   "source": [
    "Splněné podmínky:\n",
    "========================================================"
   ]
  },
  {
   "cell_type": "code",
   "execution_count": null,
   "metadata": {},
   "outputs": [],
   "source": [
    "- Projekt je uložený na public úložišti Github (https://github.com/EditaBozkova/LiveSurvey)\n",
    "- WEB Root UI je konfigurovatelný (URI)\n",
    "- Klíčové funkcionality jsou popsány a demonstrovány pomocí notebooku v Jupyteru\n",
    "- Je definovaný dockerfile / compose.yml pro spuštění výsledného projektu v prostředí docker\n",
    "- Docker images jsou publikovány na hub.docker.com\n",
    "- Je nastavena otevřená licence (MIT)"
   ]
  },
  {
   "cell_type": "code",
   "execution_count": null,
   "metadata": {},
   "outputs": [],
   "source": [
    "To do list:\n",
    "==============================="
   ]
  },
  {
   "cell_type": "code",
   "execution_count": null,
   "metadata": {},
   "outputs": [],
   "source": [
    "- WEB Root API je konfigurovatelný \n",
    "- Propojení s Postgress (aktuálně je propojen pouze s lokální databází)\n",
    "- Funkčí odstranění anket\n",
    "- Tvorba kompletních anket\n",
    "- Správná metoda POST pro posílání odpovědí"
   ]
  },
  {
   "cell_type": "code",
   "execution_count": null,
   "metadata": {
    "tags": []
   },
   "outputs": [],
   "source": [
    "Spuštění aplikace:\n",
    "========================="
   ]
  },
  {
   "cell_type": "code",
   "execution_count": null,
   "metadata": {},
   "outputs": [],
   "source": [
    "- Zajištění dat z repositáře na [GitHub](https://github.com/EditaBozkova/LiveSurvey)\n",
    "- Podmínka pro nasazení projektu je mít nainstalovaný Docker Hub\n",
    "- Pro sestavení kontejneru je zapotřebí spustit soubor runCompose.bat (provede automatické Compose up ale i Compose down s odstraněním)\n",
    "- Spustíme webové rozhraní UI přes NGINX ve webovém prohlížeči (pro vzájemnou komunikaci s FastAPI)"
   ]
  },
  {
   "cell_type": "code",
   "execution_count": null,
   "metadata": {
    "collapsed": false,
    "jupyter": {
     "outputs_hidden": false
    }
   },
   "outputs": [],
   "source": [
    "Úpravy před spuštěním\n",
    "=========================="
   ]
  },
  {
   "cell_type": "code",
   "execution_count": null,
   "metadata": {},
   "outputs": [],
   "source": [
    "#### Data vytvořených anket - struktura JSON\n",
    "Pro přidání nových anket, je zapotřebí úpravy zdrojového souboru AlbumData.js, který obsahuje jedinou proměnou ve formátu JSON. Tento soubor je strukturován jednotlivých anket a každá anketa je rozdělena na `info` a `questions`. \n",
    "\n",
    "`info` obsahuje:\n",
    "- SName: Zobrazovaný název ankety\n",
    "- ID: Identifikátor ankety\n",
    "- SAutor: Zobrazovaný autor ankety\n",
    "- SAbout: Stručný popis ankety\n",
    "- STime: Přibližná doba splnění ankety\n",
    "\n",
    "`questions` obsahuje pole jednotlivých otázek a ty obsahují:\n",
    "- Type: Typ otázky (text, radio, checkbox)\n",
    "- ID: Identifikátor otázky\n",
    "- QTitle: Znění otázky\n",
    "- Choices: Pole možností odpovědí (pouze u radio a checkbox)"
   ]
  },
  {
   "cell_type": "code",
   "execution_count": null,
   "metadata": {},
   "outputs": [],
   "source": [
    "#### Konfigurování WEB Root\n",
    "Pro konfiguraci WEB root UI nám slouží nging.conf, který obsahuje údaje pro konfiguraci UI i API. UI funguje na adrese /ui a FastAPI na /api"
   ]
  },
  {
   "cell_type": "code",
   "execution_count": null,
   "metadata": {},
   "outputs": [],
   "source": [
    "Popis programů\n",
    "====================="
   ]
  },
  {
   "cell_type": "code",
   "execution_count": null,
   "metadata": {
    "tags": []
   },
   "outputs": [],
   "source": [
    "## `frontend` : "
   ]
  },
  {
   "cell_type": "code",
   "execution_count": null,
   "metadata": {},
   "outputs": [],
   "source": [
    "Frontend je Reactová aplikace, webové rozhraní pro uživatele. Adresa domovské stránky se nachází na adrese /ui/, která obsahuje horní navigační lištu (tento NavigationBar obsahují všechny stránky), která obsahuje pár odkazů (na repositář projektu, profily autorů a jiné odkazy na webu). Aplikace je tvořena style single page, tudíž díky `React-router-dom`, který se nachází v app.js, přesměrovává pomocí URL adresy.\n",
    "\n",
    "Z domovské stránky se lze dostat na vytváření nové ankety a nebo na prohlížení již hotvých anket.\n",
    "\n",
    "#### Tvorba anket:\n",
    "Vytváření nových anket je zatím ve fázi vytvoření hlavičky pro anketu (Název a autor)\n",
    "\n",
    "Data od uživatele jsou získána pomocí komponent `input` - text\n",
    "Odeslaná data jsou ve formátu {autor: str, nazev: str}\n",
    "\n",
    "#### Album anket:\n",
    "Po přesměrování na prohlížení anket, se dynamicky zobrazí webová stránka, podle počtu existujích anket. Jednotlivé náhledy anket se zobrazují v komponentách `Card`.\n",
    "\n",
    "Náhled obsahuje základní informace jako název, autora, počet otázek a odkaz pro spuštění konkrétní ankety. Dále obsahuje i tlačítko pro smazání konrétní ankety, ale to v této verzi nezastává ještě konrétní funkcionalitu."
   ]
  },
  {
   "cell_type": "code",
   "execution_count": null,
   "metadata": {},
   "outputs": [],
   "source": [
    "#### Konkrétní anketa:\n",
    "\n",
    "K přesměrování ke konrétní anketě dojde z alba, kdy URL obsahuje `/ui/album/:id/:nameid`, kde id je index konrétní ankety a nameid je identifikátor ankety.\n",
    "\n",
    "Stránka je opětovně dynamicky generována jako předchozí (Album) pomocí jednotlivých karet, které obsahují již konkrétní otázky. Každá karta obsahuje svoji otázku, pořadí otázky a způsob zadání odpovědi. \n",
    "\n",
    "Otázky jsou buď typu text: Způsob zadání je tedy jeden `input` type:text\n",
    "\n",
    "Otázky typu radio: Způsob zadání je tedy dynamické množství `input` type:radio, kdy lze vybrat pouze jednu odpověď z jedné otázky\n",
    "\n",
    "Otázky typu checkbox: Způsob zadání je tedy dynamické množství `input` type:checkbox, kdy lze vybrat libovolný počet odpovědí z jedné otázky\n",
    "\n",
    "Na konci dotazníku je tlačítko Odeslat (`input` type:submit), který odešle odpovědi na adresu /api/sendAsnw."
   ]
  },
  {
   "cell_type": "code",
   "execution_count": null,
   "metadata": {},
   "outputs": [],
   "source": [
    "Doporučené odkazy\n",
    "=================\n",
    "\n",
    "[Vytvoření React aplikace](https://reactjs.org/docs/create-a-new-react-app.html)\n",
    "\n",
    "[Komponenty pro tvorbu webu React-bootstrap](https://react-bootstrap.github.io)\n",
    "\n",
    "[Dokumentace k FastAPI](https://fastapi.tiangolo.com)"
   ]
  },
  {
   "cell_type": "code",
   "execution_count": null,
   "metadata": {},
   "outputs": [],
   "source": [
    "Autoři\n",
    "=================\n",
    "\n",
    "- des. Daniel Popelář ([Pompino](https://github.com/Pompino))\n",
    "- des. Edita Božková ([EditaBozkova](https://github.com/EditaBozkova))"
   ]
  }
 ],
 "metadata": {
  "kernelspec": {
   "display_name": "Python 3",
   "language": "python",
   "name": "python3"
  },
  "language_info": {
   "codemirror_mode": {
    "name": "ipython",
    "version": 3
   },
   "file_extension": ".py",
   "mimetype": "text/x-python",
   "name": "python",
   "nbconvert_exporter": "python",
   "pygments_lexer": "ipython3",
   "version": "3.8.8"
  }
 },
 "nbformat": 4,
 "nbformat_minor": 4
}
